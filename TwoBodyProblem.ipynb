{
 "cells": [
  {
   "cell_type": "markdown",
   "metadata": {},
   "source": [
    "# Two-Body Problem\n",
    "\n",
    "Notebook adapted from the \"Orbit_Games\" notebook by Professor Furnstahl. Submitted as second problem for the Final Problem Set in Physics 5300."
   ]
  },
  {
   "cell_type": "code",
   "execution_count": 31,
   "metadata": {},
   "outputs": [],
   "source": [
    "import numpy as np\n",
    "import matplotlib.pyplot as plt\n",
    "from scipy.integrate import solve_ivp"
   ]
  },
  {
   "cell_type": "code",
   "execution_count": 32,
   "metadata": {},
   "outputs": [],
   "source": [
    "# Change the common font size\n",
    "font_size = 14\n",
    "plt.rcParams.update({'font.size': font_size})"
   ]
  },
  {
   "cell_type": "code",
   "execution_count": 33,
   "metadata": {},
   "outputs": [],
   "source": [
    "class DoubleOrbit:\n",
    "    \"\"\"\n",
    "    DoubleOrbit uses Lagrangians to solve the Two-Body Problem in cartesian coordinates.\n",
    "    \n",
    "    Parameters\n",
    "    ----------\n",
    "    G : float\n",
    "        Newtonian Gravitational Constant\n",
    "    mass1: float\n",
    "        First orbiting body's mass\n",
    "    mass2: float\n",
    "        Second orbiting body's mass\n",
    "\n",
    "    Methods\n",
    "    -------\n",
    "    dy_dt(t, y)\n",
    "        Returns the right side of the differential equation in vector y, \n",
    "        given time t and the corresponding value of y.\n",
    "    \"\"\"\n",
    "    \n",
    "    def __init__(self, mass1 = 1.0, mass2 = 1.0, G = 1.0):\n",
    "        self.G = G\n",
    "        self.mass1 = mass1\n",
    "        self.mass2 = mass2\n",
    "        \n",
    "    def dy_dt(self, t, y):\n",
    "        \"\"\"\n",
    "        This function returns the right-hand side of the diffeq: \n",
    "        [dphi_1/dt dphi_1dot/dt dphi_2/dt dphi_2dot/dt]\n",
    "        \n",
    "        Parameters\n",
    "        ----------\n",
    "        t : float\n",
    "            time \n",
    "        y : float\n",
    "            3-component vector with\n",
    "            y[0] = x1,     y[1] = y1\n",
    "            y[2] = x_1dot, y[3] = y_1dot\n",
    "            y[4] = x2,     y[5] = y2\n",
    "            y[6] = x_2dot, y[7] = y_2dot\n",
    "            \n",
    "        \"\"\"\n",
    "        \n",
    "        x_1DoubleDot = -(self.G*self.mass2*(y[0]-y[4]))/(((y[0]-y[4])**2 + (y[1]-y[5])**2)**(3.0/2.0))\n",
    "        x_2DoubleDot = (self.G*self.mass1*(y[0]-y[4]))/(((y[0]-y[4])**2 + (y[1]-y[5])**2)**(3.0/2.0))\n",
    "        y_1DoubleDot = -(self.G*self.mass2*(y[1]-y[5]))/(((y[0]-y[4])**2 + (y[1]-y[5])**2)**(3.0/2.0))\n",
    "        y_2DoubleDot = (self.G*self.mass1*(y[1]-y[5]))/(((y[0]-y[4])**2 + (y[1]-y[5])**2)**(3.0/2.0))\n",
    "        \n",
    "        return [y[2], x_1DoubleDot, y[3], y_1DoubleDot, y[6], x_2DoubleDot, y[7], y_2DoubleDot]\n",
    "    \n",
    "    \n",
    "    def solve_ode(self, t_pts,x1_0,x_1dot0,x2_0,x_2dot0,y1_0,y_1dot0,y2_0,y_2dot0, \n",
    "                  abserr=1.0e-10, relerr=1.0e-10):\n",
    "        \"\"\"\n",
    "        Solve the ODE given initial conditions.\n",
    "        For now use odeint, but we have the option to switch.\n",
    "        Specify smaller abserr and relerr to get more precision.\n",
    "        \"\"\"\n",
    "        y = [x1_0,x_1dot0,x2_0,x_2dot0,y1_0,y_1dot0,y2_0,y_2dot0]  \n",
    "        solution = solve_ivp(self.dy_dt, (t_pts[0], t_pts[-1]), \n",
    "                             y, t_eval=t_pts, \n",
    "                             atol=abserr, rtol=relerr)\n",
    "        x1, x_1dot, x2, x_2dot, y1, y_1dot, y2, y_2dot = solution.y\n",
    "        return  x1, x_1dot, x2, x_2dot, y1, y_1dot, y2, y_2dot\n",
    "    "
   ]
  },
  {
   "cell_type": "code",
   "execution_count": 34,
   "metadata": {},
   "outputs": [],
   "source": [
    "def start_stop_indices(t_pts, plot_start, plot_stop):\n",
    "    start_index = (np.fabs(t_pts-plot_start)).argmin()  # index in t_pts array \n",
    "    stop_index = (np.fabs(t_pts-plot_stop)).argmin()  # index in t_pts array \n",
    "    return start_index, stop_index\n",
    "\n",
    "def plot_y_vs_x(x, y, axis_labels=None, label=None, title=None, \n",
    "                color=None, linestyle=None, semilogy=False, loglog=False,\n",
    "                ax=None):\n",
    "    \"\"\"\n",
    "    Generic plotting function: return a figure axis with a plot of y vs. x,\n",
    "    with line color and style, title, axis labels, and line label\n",
    "    \"\"\"\n",
    "    if ax is None:        # if the axis object doesn't exist, make one\n",
    "        ax = plt.gca()\n",
    "\n",
    "    if (semilogy):\n",
    "        line, = ax.semilogy(x, y, label=label, \n",
    "                            color=color, linestyle=linestyle)\n",
    "    elif (loglog):\n",
    "        line, = ax.loglog(x, y, label=label, \n",
    "                          color=color, linestyle=linestyle)\n",
    "    else:\n",
    "        line, = ax.plot(x, y, label=label, \n",
    "                    color=color, linestyle=linestyle)\n",
    "\n",
    "    if label is not None:    # if a label if passed, show the legend\n",
    "        ax.legend()\n",
    "    if title is not None:    # set a title if one if passed\n",
    "        ax.set_title(title)\n",
    "    if axis_labels is not None:  # set x-axis and y-axis labels if passed  \n",
    "        ax.set_xlabel(axis_labels[0])\n",
    "        ax.set_ylabel(axis_labels[1])\n",
    "\n",
    "    return ax, line"
   ]
  },
  {
   "cell_type": "markdown",
   "metadata": {},
   "source": [
    "#### Step 1\n",
    "Labels for plots"
   ]
  },
  {
   "cell_type": "code",
   "execution_count": 35,
   "metadata": {},
   "outputs": [],
   "source": [
    "x_vs_y_labels = (r'$x$', r'$y$')"
   ]
  },
  {
   "cell_type": "markdown",
   "metadata": {},
   "source": [
    "### Step 2\n",
    "Generate plot time"
   ]
  },
  {
   "cell_type": "code",
   "execution_count": 36,
   "metadata": {},
   "outputs": [],
   "source": [
    "# Common plotting time (generate the full time then use slices)\n",
    "t_start = 0.\n",
    "t_end = 100.\n",
    "delta_t = 0.001\n",
    "\n",
    "t_pts = np.arange(t_start, t_end+delta_t, delta_t)  "
   ]
  },
  {
   "cell_type": "markdown",
   "metadata": {},
   "source": [
    "#### Step 3\n",
    "Define the parameters for our 2 Body System"
   ]
  },
  {
   "cell_type": "code",
   "execution_count": 41,
   "metadata": {},
   "outputs": [],
   "source": [
    "# Model \n",
    "mass1 = 1.0\n",
    "mass2 = 1.0\n",
    "G = 10.0"
   ]
  },
  {
   "cell_type": "markdown",
   "metadata": {},
   "source": [
    "#### Step 4\n",
    "Instantiate our 2 Body System"
   ]
  },
  {
   "cell_type": "code",
   "execution_count": 42,
   "metadata": {},
   "outputs": [],
   "source": [
    "p1 = DoubleOrbit(G=G, mass1=mass1, mass2=mass2)"
   ]
  },
  {
   "cell_type": "markdown",
   "metadata": {},
   "source": [
    "#### Step 5\n",
    "Determine out Initial Conditions"
   ]
  },
  {
   "cell_type": "code",
   "execution_count": 43,
   "metadata": {},
   "outputs": [],
   "source": [
    "# Set ini't'l cond'ns\n",
    "x1_0 = 1.0\n",
    "x_1dot0 = 0.0\n",
    "x2_0 = -1.0\n",
    "x_2dot0 = 0.0\n",
    "y1_0 = 0.0\n",
    "y_1dot0 = 1.0\n",
    "y2_0 = 0.0\n",
    "y_2dot0 = -1.0\n",
    "\n",
    "# feed initial cond'ns into pendulum, calculate pendulum data\n",
    "x1,x_1dot, x2, x_2dot, y1, y_1dot, y2, y_2dot = p1.solve_ode(t_pts, \\\n",
    "                                                             x1_0, \\\n",
    "                                                             x_1dot0, \n",
    "                                                             x2_0, \\\n",
    "                                                             x_2dot0, \\\n",
    "                                                             y1_0, \\\n",
    "                                                             y_1dot0, \\\n",
    "                                                             y2_0, \\\n",
    "                                                             y_2dot0)\n",
    "                                                             "
   ]
  },
  {
   "cell_type": "markdown",
   "metadata": {},
   "source": [
    "#### Step 6\n",
    "Now we can make our plot!"
   ]
  },
  {
   "cell_type": "code",
   "execution_count": 44,
   "metadata": {},
   "outputs": [
    {
     "data": {
      "image/png": "[encoded data removed]",
      "text/plain": [
       "<Figure size 1080x360 with 1 Axes>"
      ]
     },
     "metadata": {
      "needs_background": "light"
     },
     "output_type": "display_data"
    }
   ],
   "source": [
    "# start the plot!\n",
    "fig = plt.figure(figsize=(15,5))\n",
    "overall_title = 'Earth-Sun System:  ' + \\\n",
    "                rf' $m_1 = {mass1:.2f},$' + \\\n",
    "                rf'  $m_2 = {mass2:.2f},$' + \\\n",
    "                rf' $G = {G:.2f},$' + \\\n",
    "                '\\n'    # \\n means a new line (adds some space here)\n",
    "\n",
    "fig.suptitle(overall_title, va='baseline')\n",
    "    \n",
    "# first plot\n",
    "ax_a = fig.add_subplot(1,1,1)                  \n",
    "\n",
    "start, stop = start_stop_indices(t_pts, t_start, t_end)    \n",
    "plot_y_vs_x(x1[start : stop], y1[start : stop], \n",
    "            axis_labels=x_vs_y_labels, \n",
    "            color='blue',\n",
    "            label=None, \n",
    "            title=r'$\\phi(t)$', \n",
    "            ax=ax_a)\n",
    "start, stop = start_stop_indices(t_pts, t_start, t_end)    \n",
    "plot_y_vs_x(x2[start : stop], y2[start : stop], \n",
    "            color='red',\n",
    "            label=None,  \n",
    "            ax=ax_a)\n",
    "\n",
    "\n",
    "fig.tight_layout()\n",
    "fig.savefig('TwoBodyProblem.png', bbox_inches='tight')  "
   ]
  },
  {
   "cell_type": "code",
   "execution_count": null,
   "metadata": {},
   "outputs": [],
   "source": []
  },
  {
   "cell_type": "code",
   "execution_count": null,
   "metadata": {},
   "outputs": [],
   "source": []
  }
 ],
 "metadata": {
  "kernelspec": {
   "display_name": "Python 3",
   "language": "python",
   "name": "python3"
  },
  "language_info": {
   "codemirror_mode": {
    "name": "ipython",
    "version": 3
   },
   "file_extension": ".py",
   "mimetype": "text/x-python",
   "name": "python",
   "nbconvert_exporter": "python",
   "pygments_lexer": "ipython3",
   "version": "3.7.1"
  }
 },
 "nbformat": 4,
 "nbformat_minor": 2
}
